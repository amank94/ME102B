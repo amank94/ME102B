{
 "cells": [
  {
   "cell_type": "code",
   "execution_count": 24,
   "metadata": {
    "collapsed": false
   },
   "outputs": [],
   "source": [
    "def cartesian_motion_conversion(path_position, pt_A, pt_B, leg):\n",
    "    \n",
    "    import numpy as np\n",
    "    \n",
    "    x_component = pt_B[0] - pt_A[0];\n",
    "    y_component = pt_B[1] - pt_A[1];\n",
    "    z_component = pt_B[2] - pt_A[2];\n",
    "\n",
    "    cartesian_position = np.zeros((3, len(path_position)));\n",
    "\n",
    "    cartesian_position[0,:] = pt_A[0] + (x_component/leg)*path_position;\n",
    "    cartesian_position[1,:] = pt_A[1] + (y_component/leg)*path_position;\n",
    "    cartesian_position[2,:] = pt_A[2] + (z_component/leg)*path_position;\n",
    "    \n",
    "    return cartesian_position"
   ]
  },
  {
   "cell_type": "code",
   "execution_count": null,
   "metadata": {
    "collapsed": true
   },
   "outputs": [],
   "source": []
  }
 ],
 "metadata": {
  "anaconda-cloud": {},
  "kernelspec": {
   "display_name": "Python [default]",
   "language": "python",
   "name": "python3"
  },
  "language_info": {
   "codemirror_mode": {
    "name": "ipython",
    "version": 3
   },
   "file_extension": ".py",
   "mimetype": "text/x-python",
   "name": "python",
   "nbconvert_exporter": "python",
   "pygments_lexer": "ipython3",
   "version": "3.5.2"
  }
 },
 "nbformat": 4,
 "nbformat_minor": 1
}
