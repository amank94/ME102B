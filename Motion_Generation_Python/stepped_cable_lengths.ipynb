{
 "cells": [
  {
   "cell_type": "code",
   "execution_count": 2,
   "metadata": {
    "collapsed": false
   },
   "outputs": [],
   "source": [
    "def stepped_cable_lengths(ideal_cable_length, step_length):\n",
    "    \n",
    "    import numpy as np\n",
    "    \n",
    "    stepped_cables = np.zeros([8, len(ideal_cable_length)]);\n",
    "    \n",
    "    for i in range (8):\n",
    "        stepped_cables[i,:] = ceil((ideal_cable_length[i,:] - ideal_cable_length[i,0])/step_length)*step_length + ideal_cable_length[i,0];\n",
    "        \n",
    "        return stepped_cables"
   ]
  },
  {
   "cell_type": "code",
   "execution_count": null,
   "metadata": {
    "collapsed": true
   },
   "outputs": [],
   "source": []
  }
 ],
 "metadata": {
  "anaconda-cloud": {},
  "kernelspec": {
   "display_name": "Python [default]",
   "language": "python",
   "name": "python3"
  },
  "language_info": {
   "codemirror_mode": {
    "name": "ipython",
    "version": 3
   },
   "file_extension": ".py",
   "mimetype": "text/x-python",
   "name": "python",
   "nbconvert_exporter": "python",
   "pygments_lexer": "ipython3",
   "version": "3.5.2"
  }
 },
 "nbformat": 4,
 "nbformat_minor": 1
}
