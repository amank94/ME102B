{
 "cells": [
  {
   "cell_type": "code",
   "execution_count": null,
   "metadata": {
    "collapsed": true
   },
   "outputs": [],
   "source": [
    "def ideal_cable_length(w,l,ht,hb,e,f,g,cartesian_position):\n",
    "    import numpy as np\n",
    "    x_position = cartesian_position[0,:];\n",
    "    y_position = cartesian_position[1,:];\n",
    "    z_position = cartesian_position[2,:];\n",
    "    \n",
    "    T1_cable_ideal = np.array(((x_position-f)**2 + (y_position-e)**2 + (ht-z_position-g)**2)**(1/2));\n",
    "    T2_cable_ideal = np.array(((x_position-f)**2 + (l-y_position-e)**2 + (ht-z_position-g)**2)**(1/2));\n",
    "    T3_cable_ideal = np.array(((w-x_position-f)**2 + (l-y_position-e)**2 + (ht-z_position-g)**2)**(1/2));\n",
    "    T4_cable_ideal = np.array(((w-x_position-f)**2 + (y_position-e)**2 + (ht-z_position-g)**2)**(1/2));\n",
    "    \n",
    "    B1_cable_ideal = np.array(((x_position-f)**2 + (y_position-e)**2 + (hb-z_position-g)**2)**(1/2));\n",
    "    B2_cable_ideal = np.array(((x_position-f)**2 + (l-y_position-e)**2 + (hb-z_position-g)**2)**(1/2));\n",
    "    B3_cable_ideal = np.array(((w-x_position-f)**2 + (l-y_position-e)**2 + (hb-z_position-g)**2)**(1/2));\n",
    "    B4_cable_ideal = np.array(((w-x_position-f)**2 + (y_position-e)**2 + (hb-z_position-g)**2)**(1/2));\n",
    "    \n",
    "    ideal_cables = np.array([[T1_cable_ideal],\n",
    "                             [T2_cable_ideal],\n",
    "                             [T3_cable_ideal],\n",
    "                             [T4_cable_ideal],\n",
    "                             [B1_cable_ideal],\n",
    "                             [B2_cable_ideal],\n",
    "                             [B3_cable_ideal],\n",
    "                             [B4_cable_ideal]]);\n",
    "    return ideal_cables"
   ]
  }
 ],
 "metadata": {
  "kernelspec": {
   "display_name": "Python [default]",
   "language": "python",
   "name": "python3"
  },
  "language_info": {
   "codemirror_mode": {
    "name": "ipython",
    "version": 3
   },
   "file_extension": ".py",
   "mimetype": "text/x-python",
   "name": "python",
   "nbconvert_exporter": "python",
   "pygments_lexer": "ipython3",
   "version": "3.5.2"
  }
 },
 "nbformat": 4,
 "nbformat_minor": 1
}
