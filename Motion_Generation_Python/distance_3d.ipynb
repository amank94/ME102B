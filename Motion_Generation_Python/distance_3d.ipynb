{
 "cells": [
  {
   "cell_type": "code",
   "execution_count": null,
   "metadata": {
    "collapsed": true
   },
   "outputs": [],
   "source": [
    "def distance_3d(pt_A, pt_B):\n",
    "    x_del = pt_B[1] - pt_A[1];\n",
    "    y_del = pt_B[2] - pt_A[2];\n",
    "    z_del = pt_B[3] - pt_A[3];\n",
    "    leg = (x_del**2 + y_del**2 + z_del**2)**(1/2);\n",
    "    return(leg)"
   ]
  }
 ],
 "metadata": {
  "anaconda-cloud": {},
  "kernelspec": {
   "display_name": "Python [default]",
   "language": "python",
   "name": "python3"
  },
  "language_info": {
   "codemirror_mode": {
    "name": "ipython",
    "version": 3
   },
   "file_extension": ".py",
   "mimetype": "text/x-python",
   "name": "python",
   "nbconvert_exporter": "python",
   "pygments_lexer": "ipython3",
   "version": "3.5.2"
  }
 },
 "nbformat": 4,
 "nbformat_minor": 1
}
